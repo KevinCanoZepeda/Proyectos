{
 "cells": [
  {
   "cell_type": "code",
   "execution_count": 1,
   "id": "2d2baf93-9ed0-434c-8f18-9e40a10fe3cb",
   "metadata": {},
   "outputs": [
    {
     "name": "stdout",
     "output_type": "stream",
     "text": [
      " \n",
      "_______  ________  ________  ________ ___  ________  ________  ________                              \n",
      "|\\   ____\\|\\   __  \\|\\   __  \\|\\  _____|\\  \\|\\   ____\\|\\   __  \\|\\   ____\\                             \n",
      "\\ \\  \\___|\\ \\  \\|\\  \\ \\  \\|\\  \\ \\  \\__/\\ \\  \\ \\  \\___|\\ \\  \\|\\  \\ \\  \\___|_                            \n",
      " \\ \\  \\  __\\ \\   _  _\\ \\   __  \\ \\   __\\\\ \\  \\ \\  \\    \\ \\   __  \\ \\_____  \\                           \n",
      "  \\ \\  \\|\\  \\ \\  \\\\  \\\\ \\  \\ \\  \\ \\  \\_| \\ \\  \\ \\  \\____\\ \\  \\ \\  \\|____|\\  \\                          \n",
      "   \\ \\_______\\ \\__\\\\ _\\\\ \\__\\ \\__\\ \\__\\   \\ \\__\\ \\_______\\ \\__\\ \\__\\____\\_\\  \\                         \n",
      "    \\|_______|\\|__|\\|__|\\|__|\\|__|\\|__|    \\|__|\\|_______|\\|__|\\|__|\\_________\\                        \n",
      " ________      ___    ___                                          \\|_________|                        \n",
      "|\\   __  \\    |\\  \\  /  /|                                                                             \n",
      "\\ \\  \\|\\ /_   \\ \\  \\/  / /                                                                             \n",
      " \\ \\   __  \\   \\ \\    / /                                                                              \n",
      "  \\ \\  \\|\\  \\   \\/  /  /                                                                               \n",
      "   \\ \\_______\\__/  / /                                                                                 \n",
      "    \\|_______|\\___/ /                                                                                  \n",
      "             \\|___|/                                                                                   \n",
      " ___  __    _______   ___      ___ ___  ________           ________  ________  ________   ________     \n",
      "|\\  \\|\\  \\ |\\  ___ \\ |\\  \\    /  /|\\  \\|\\   ___  \\        |\\   ____\\|\\   __  \\|\\   ___  \\|\\   __  \\    \n",
      "\\ \\  \\/  /|\\ \\   __/|\\ \\  \\  /  / \\ \\  \\ \\  \\\\ \\  \\       \\ \\  \\___|\\ \\  \\|\\  \\ \\  \\\\ \\  \\ \\  \\|\\  \\   \n",
      " \\ \\   ___  \\ \\  \\_|/_\\ \\  \\/  / / \\ \\  \\ \\  \\\\ \\  \\       \\ \\  \\    \\ \\   __  \\ \\  \\\\ \\  \\ \\  \\\\\\  \\  \n",
      "  \\ \\  \\\\ \\  \\ \\  \\_|\\ \\ \\    / /   \\ \\  \\ \\  \\\\ \\  \\       \\ \\  \\____\\ \\  \\ \\  \\ \\  \\\\ \\  \\ \\  \\\\\\  \\ \n",
      "   \\ \\__\\\\ \\__\\ \\_______\\ \\__/ /     \\ \\__\\ \\__\\\\ \\__\\       \\ \\_______\\ \\__\\ \\__\\ \\__\\\\ \\__\\ \\_______\\\n",
      "    \\|__| \\|__|\\|_______|\\|__|/       \\|__|\\|__| \\|__|        \\|_______|\\|__|\\|__|\\|__| \\|__|\\|_______|\n",
      "                                                                                                                                                                                                                                                                                             \n",
      "                \n"
     ]
    }
   ],
   "source": [
    "import matplotlib.pyplot as plt\n",
    "def print_banner():\n",
    "    banner =  r''' \n",
    "_______  ________  ________  ________ ___  ________  ________  ________                              \n",
    "|\\   ____\\|\\   __  \\|\\   __  \\|\\  _____|\\  \\|\\   ____\\|\\   __  \\|\\   ____\\                             \n",
    "\\ \\  \\___|\\ \\  \\|\\  \\ \\  \\|\\  \\ \\  \\__/\\ \\  \\ \\  \\___|\\ \\  \\|\\  \\ \\  \\___|_                            \n",
    " \\ \\  \\  __\\ \\   _  _\\ \\   __  \\ \\   __\\\\ \\  \\ \\  \\    \\ \\   __  \\ \\_____  \\                           \n",
    "  \\ \\  \\|\\  \\ \\  \\\\  \\\\ \\  \\ \\  \\ \\  \\_| \\ \\  \\ \\  \\____\\ \\  \\ \\  \\|____|\\  \\                          \n",
    "   \\ \\_______\\ \\__\\\\ _\\\\ \\__\\ \\__\\ \\__\\   \\ \\__\\ \\_______\\ \\__\\ \\__\\____\\_\\  \\                         \n",
    "    \\|_______|\\|__|\\|__|\\|__|\\|__|\\|__|    \\|__|\\|_______|\\|__|\\|__|\\_________\\                        \n",
    " ________      ___    ___                                          \\|_________|                        \n",
    "|\\   __  \\    |\\  \\  /  /|                                                                             \n",
    "\\ \\  \\|\\ /_   \\ \\  \\/  / /                                                                             \n",
    " \\ \\   __  \\   \\ \\    / /                                                                              \n",
    "  \\ \\  \\|\\  \\   \\/  /  /                                                                               \n",
    "   \\ \\_______\\__/  / /                                                                                 \n",
    "    \\|_______|\\___/ /                                                                                  \n",
    "             \\|___|/                                                                                   \n",
    " ___  __    _______   ___      ___ ___  ________           ________  ________  ________   ________     \n",
    "|\\  \\|\\  \\ |\\  ___ \\ |\\  \\    /  /|\\  \\|\\   ___  \\        |\\   ____\\|\\   __  \\|\\   ___  \\|\\   __  \\    \n",
    "\\ \\  \\/  /|\\ \\   __/|\\ \\  \\  /  / \\ \\  \\ \\  \\\\ \\  \\       \\ \\  \\___|\\ \\  \\|\\  \\ \\  \\\\ \\  \\ \\  \\|\\  \\   \n",
    " \\ \\   ___  \\ \\  \\_|/_\\ \\  \\/  / / \\ \\  \\ \\  \\\\ \\  \\       \\ \\  \\    \\ \\   __  \\ \\  \\\\ \\  \\ \\  \\\\\\  \\  \n",
    "  \\ \\  \\\\ \\  \\ \\  \\_|\\ \\ \\    / /   \\ \\  \\ \\  \\\\ \\  \\       \\ \\  \\____\\ \\  \\ \\  \\ \\  \\\\ \\  \\ \\  \\\\\\  \\ \n",
    "   \\ \\__\\\\ \\__\\ \\_______\\ \\__/ /     \\ \\__\\ \\__\\\\ \\__\\       \\ \\_______\\ \\__\\ \\__\\ \\__\\\\ \\__\\ \\_______\\\n",
    "    \\|__| \\|__|\\|_______|\\|__|/       \\|__|\\|__| \\|__|        \\|_______|\\|__|\\|__|\\|__| \\|__|\\|_______|\n",
    "                                                                                                                                                                                                                                                                                             \n",
    "                '''\n",
    "    print(banner)\n",
    "    \n",
    "print_banner()\n",
    "def menu(datos):\n",
    "    opcion = 1\n",
    "    print_banner()\n",
    "    while opcion != '0':\n",
    "        print('Bienvenido a Graficas')\n",
    "        print(\"\"\"ingrese una opcion del menu.\n",
    "                \\n 1.- grafica de linea\n",
    "                \\n 2.- grafica de puntos\n",
    "                \\n 3.- grafica (nose)\"\"\")\n",
    "        opcion = input('')\n",
    "        if opcion == '1':\n",
    "            print('Has elegido grafica de linea')\n",
    "            print('ingresa las especificaciones de la grafica')\n",
    "            titulo = input('Titulo: ')\n",
    "            eje_x = input('Nombre del eje x: ')\n",
    "            eje_y = input('Nombre del eje y: ')\n",
    "            color = input('Color: ')\n",
    "            tipo_linea = input('Tipo de linea: ')\n",
    "            leyenda = input('leyenda: ')\n",
    "            especificaciones = {'titulo': titulo,\n",
    "                               'color': color,\n",
    "                               'ejex': eje_x,\n",
    "                               'ejey': eje_y,\n",
    "                               'tipo_linea':tipo_linea,\n",
    "                               'leyenda': leyenda}\n",
    "            grafica1 = GraficaLinea(datos,especificaciones)\n",
    "            grafica1.graficar()\n",
    "            "
   ]
  },
  {
   "cell_type": "code",
   "execution_count": 2,
   "id": "06523cbd-85fc-49dd-a34d-34ff6a251b40",
   "metadata": {},
   "outputs": [],
   "source": [
    "class GraficaLinea:\n",
    "    \n",
    "    def __init__(self,datos, especificaciones):\n",
    "        \"\"\"\n",
    "        Inicializa la clase GraficaLinea.\n",
    "\n",
    "        :param datos: Lista de tuplas o listas, cada una representando una serie de datos (x, y).\n",
    "        :param especificaciones: Diccionario con opciones para personalizar la gráfica:\n",
    "                                 - 'titulo': Título de la gráfica.\n",
    "                                 - 'ejes': Tupla con los nombres de los ejes (x, y).\n",
    "                                 - 'color': Color de la línea.\n",
    "                                 - 'tipo_linea': Tipo de línea (e.g., '-', '--', '-.', ':').\n",
    "        \"\"\"\n",
    "        self.datos = datos\n",
    "        self.especificaciones = especificaciones\n",
    "    def graficar(self):\n",
    "        x = [x[0] for x in self.datos]\n",
    "        y = [y[1] for y in self.datos]\n",
    "        fig, ax = plt.subplots()\n",
    "        ax.plot(x, y, \n",
    "                color = self.especificaciones['color'],\n",
    "                linestyle= self.especificaciones['tipo_linea'],\n",
    "                label = self.especificaciones['leyenda'])\n",
    "        ax.set_title(self.especificaciones['titulo'])\n",
    "        ax.set_xlim(min(x),max(x))\n",
    "        ax.set_ylim(min(y),max(y))\n",
    "        ax.legend()\n",
    "        plt.savefig(self.especificaciones.get('titulo', 'grafica') + '.jpg')\n",
    "        plt.show()\n",
    "        \n",
    "        "
   ]
  },
  {
   "cell_type": "code",
   "execution_count": null,
   "id": "f8f338ef-a826-47aa-b1b5-898550008eec",
   "metadata": {},
   "outputs": [
    {
     "name": "stdout",
     "output_type": "stream",
     "text": [
      " \n",
      "_______  ________  ________  ________ ___  ________  ________  ________                              \n",
      "|\\   ____\\|\\   __  \\|\\   __  \\|\\  _____|\\  \\|\\   ____\\|\\   __  \\|\\   ____\\                             \n",
      "\\ \\  \\___|\\ \\  \\|\\  \\ \\  \\|\\  \\ \\  \\__/\\ \\  \\ \\  \\___|\\ \\  \\|\\  \\ \\  \\___|_                            \n",
      " \\ \\  \\  __\\ \\   _  _\\ \\   __  \\ \\   __\\\\ \\  \\ \\  \\    \\ \\   __  \\ \\_____  \\                           \n",
      "  \\ \\  \\|\\  \\ \\  \\\\  \\\\ \\  \\ \\  \\ \\  \\_| \\ \\  \\ \\  \\____\\ \\  \\ \\  \\|____|\\  \\                          \n",
      "   \\ \\_______\\ \\__\\\\ _\\\\ \\__\\ \\__\\ \\__\\   \\ \\__\\ \\_______\\ \\__\\ \\__\\____\\_\\  \\                         \n",
      "    \\|_______|\\|__|\\|__|\\|__|\\|__|\\|__|    \\|__|\\|_______|\\|__|\\|__|\\_________\\                        \n",
      " ________      ___    ___                                          \\|_________|                        \n",
      "|\\   __  \\    |\\  \\  /  /|                                                                             \n",
      "\\ \\  \\|\\ /_   \\ \\  \\/  / /                                                                             \n",
      " \\ \\   __  \\   \\ \\    / /                                                                              \n",
      "  \\ \\  \\|\\  \\   \\/  /  /                                                                               \n",
      "   \\ \\_______\\__/  / /                                                                                 \n",
      "    \\|_______|\\___/ /                                                                                  \n",
      "             \\|___|/                                                                                   \n",
      " ___  __    _______   ___      ___ ___  ________           ________  ________  ________   ________     \n",
      "|\\  \\|\\  \\ |\\  ___ \\ |\\  \\    /  /|\\  \\|\\   ___  \\        |\\   ____\\|\\   __  \\|\\   ___  \\|\\   __  \\    \n",
      "\\ \\  \\/  /|\\ \\   __/|\\ \\  \\  /  / \\ \\  \\ \\  \\\\ \\  \\       \\ \\  \\___|\\ \\  \\|\\  \\ \\  \\\\ \\  \\ \\  \\|\\  \\   \n",
      " \\ \\   ___  \\ \\  \\_|/_\\ \\  \\/  / / \\ \\  \\ \\  \\\\ \\  \\       \\ \\  \\    \\ \\   __  \\ \\  \\\\ \\  \\ \\  \\\\\\  \\  \n",
      "  \\ \\  \\\\ \\  \\ \\  \\_|\\ \\ \\    / /   \\ \\  \\ \\  \\\\ \\  \\       \\ \\  \\____\\ \\  \\ \\  \\ \\  \\\\ \\  \\ \\  \\\\\\  \\ \n",
      "   \\ \\__\\\\ \\__\\ \\_______\\ \\__/ /     \\ \\__\\ \\__\\\\ \\__\\       \\ \\_______\\ \\__\\ \\__\\ \\__\\\\ \\__\\ \\_______\\\n",
      "    \\|__| \\|__|\\|_______|\\|__|/       \\|__|\\|__| \\|__|        \\|_______|\\|__|\\|__|\\|__| \\|__|\\|_______|\n",
      "                                                                                                                                                                                                                                                                                             \n",
      "                \n",
      "Bienvenido a Graficas\n",
      "ingrese una opcion del menu.\n",
      "                \n",
      " 1.- grafica de linea\n",
      "                \n",
      " 2.- grafica de puntos\n",
      "                \n",
      " 3.- grafica (nose)\n"
     ]
    },
    {
     "name": "stdin",
     "output_type": "stream",
     "text": [
      " 1\n"
     ]
    },
    {
     "name": "stdout",
     "output_type": "stream",
     "text": [
      "Has elegido grafica de linea\n",
      "ingresa las especificaciones de la grafica\n"
     ]
    },
    {
     "name": "stdin",
     "output_type": "stream",
     "text": [
      "Titulo:  cuadratica\n",
      "Nombre del eje x:  x\n",
      "Nombre del eje y:  y\n",
      "Color:  g\n",
      "Tipo de linea:  -\n",
      "leyenda:  y=x^2\n"
     ]
    },
    {
     "data": {
      "image/png": "[encoded data removed]",
      "text/plain": [
       "<Figure size 640x480 with 1 Axes>"
      ]
     },
     "metadata": {},
     "output_type": "display_data"
    },
    {
     "name": "stdout",
     "output_type": "stream",
     "text": [
      "Bienvenido a Graficas\n",
      "ingrese una opcion del menu.\n",
      "                \n",
      " 1.- grafica de linea\n",
      "                \n",
      " 2.- grafica de puntos\n",
      "                \n",
      " 3.- grafica (nose)\n"
     ]
    }
   ],
   "source": [
    "def lineal():\n",
    "    from numpy import linspace\n",
    "    data = linspace(0,100,100)\n",
    "    lista = []\n",
    "    for i in data:\n",
    "        lista.append((i,i**2))\n",
    "    return lista\n",
    "datos = lineal()\n",
    "menu(datos)"
   ]
  },
  {
   "cell_type": "code",
   "execution_count": null,
   "id": "3c2c28c1-5ecc-4f35-a48c-a6543f3c5bbe",
   "metadata": {},
   "outputs": [],
   "source": []
  }
 ],
 "metadata": {
  "kernelspec": {
   "display_name": "Python 3 (ipykernel)",
   "language": "python",
   "name": "python3"
  },
  "language_info": {
   "codemirror_mode": {
    "name": "ipython",
    "version": 3
   },
   "file_extension": ".py",
   "mimetype": "text/x-python",
   "name": "python",
   "nbconvert_exporter": "python",
   "pygments_lexer": "ipython3",
   "version": "3.12.3"
  }
 },
 "nbformat": 4,
 "nbformat_minor": 5
}
